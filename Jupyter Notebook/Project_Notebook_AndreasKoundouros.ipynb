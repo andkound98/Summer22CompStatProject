{
 "cells": [
  {
   "cell_type": "markdown",
   "id": "460c24c6",
   "metadata": {},
   "source": [
    "# Trees, Forests and the Classification Problem: Simulations & Application to Redistribution Preferences "
   ]
  },
  {
   "cell_type": "markdown",
   "id": "5ed37068",
   "metadata": {},
   "source": [
    "Andreas Koundouros | University of Bonn | Computational Statistics Project | Summer 2022"
   ]
  },
  {
   "cell_type": "markdown",
   "id": "f37390ea",
   "metadata": {},
   "source": [
    "### Table of Contents:\n",
    "* [1. Introduction](#first-bullet)\n",
    "* [2. Overview of Statistical Methods](#second-bullet)\n",
    "* [3. Simulation Studies](#third-bullet)\n",
    "* [4. Economic Application](#fourth-bullet)\n",
    "* [5. Conclusion](#fifth-bullet)"
   ]
  },
  {
   "cell_type": "markdown",
   "id": "f229b46e",
   "metadata": {},
   "source": [
    "## 1. Introduction <a class=\"anchor\" id=\"first-bullet\"></a>"
   ]
  },
  {
   "cell_type": "markdown",
   "id": "e1acf617",
   "metadata": {},
   "source": [
    "Here, there will be some introduction. \n",
    "That is, introduction to trees, what they are, what they do. Also, brief overview of simulation study and results thereof as well as overview of application. "
   ]
  },
  {
   "cell_type": "code",
   "execution_count": null,
   "id": "4e82fa70",
   "metadata": {},
   "outputs": [],
   "source": []
  },
  {
   "cell_type": "markdown",
   "id": "421c0eac",
   "metadata": {},
   "source": [
    "## 2. Overview of Statistical Methods <a class=\"anchor\" id=\"second-bullet\"></a>"
   ]
  },
  {
   "cell_type": "markdown",
   "id": "9a5b4c2a",
   "metadata": {},
   "source": [
    "So here the topic is the presentation of tree based methods, in particular classification trees and random forests."
   ]
  },
  {
   "cell_type": "code",
   "execution_count": null,
   "id": "21dc7782",
   "metadata": {},
   "outputs": [],
   "source": []
  },
  {
   "cell_type": "markdown",
   "id": "0a4d2de9",
   "metadata": {},
   "source": [
    "##  3. Simulation Studies <a class=\"anchor\" id=\"third-bullet\"></a>"
   ]
  },
  {
   "cell_type": "code",
   "execution_count": null,
   "id": "8704dddb",
   "metadata": {},
   "outputs": [],
   "source": []
  },
  {
   "cell_type": "markdown",
   "id": "47f66016",
   "metadata": {},
   "source": [
    "## 4. Economic Application: Redistribution Preferences <a class=\"anchor\" id=\"fourth-bullet\"></a>"
   ]
  },
  {
   "cell_type": "code",
   "execution_count": null,
   "id": "30af2cdc",
   "metadata": {},
   "outputs": [],
   "source": []
  },
  {
   "cell_type": "markdown",
   "id": "cd0be276",
   "metadata": {},
   "source": [
    "## 5. Conclusion <a class=\"anchor\" id=\"fifth-bullet\"></a>"
   ]
  },
  {
   "cell_type": "code",
   "execution_count": null,
   "id": "46dad489",
   "metadata": {},
   "outputs": [],
   "source": []
  },
  {
   "cell_type": "markdown",
   "id": "8ed9d3b7",
   "metadata": {},
   "source": [
    "### References"
   ]
  },
  {
   "cell_type": "markdown",
   "id": "75b66c86",
   "metadata": {},
   "source": [
    "Keely, L. C., & Tan, C. M. (2008). Understanding Preferences for Income Redistribution. Journal of Public Economics, 92(5-6), p. 944-961.  "
   ]
  }
 ],
 "metadata": {
  "kernelspec": {
   "display_name": "R",
   "language": "R",
   "name": "ir"
  },
  "language_info": {
   "codemirror_mode": "r",
   "file_extension": ".r",
   "mimetype": "text/x-r-source",
   "name": "R",
   "pygments_lexer": "r",
   "version": "4.1.3"
  }
 },
 "nbformat": 4,
 "nbformat_minor": 5
}
