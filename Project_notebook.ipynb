{
 "cells": [
  {
   "cell_type": "markdown",
   "id": "460c24c6",
   "metadata": {},
   "source": [
    "# Title"
   ]
  },
  {
   "cell_type": "markdown",
   "id": "5ed37068",
   "metadata": {},
   "source": [
    "Andreas Koundouros | University of Bonn | Computational Statistics Project | Summer 2022"
   ]
  },
  {
   "cell_type": "markdown",
   "id": "f37390ea",
   "metadata": {},
   "source": [
    "### Table of Contents:\n",
    "* [1. Introduction](#first-bullet)\n",
    "* [2. Theory](#second-bullet)\n"
   ]
  },
  {
   "cell_type": "markdown",
   "id": "0c633ddf",
   "metadata": {},
   "source": [
    "## 1. Introduction <a class=\"anchor\" id=\"first-bullet\"></a>"
   ]
  },
  {
   "cell_type": "code",
   "execution_count": 2,
   "id": "8eba8676",
   "metadata": {},
   "outputs": [],
   "source": [
    "# Here is some R code."
   ]
  },
  {
   "cell_type": "markdown",
   "id": "120e1915",
   "metadata": {},
   "source": [
    "## 2. Theory <a class=\"anchor\" id=\"second-bullet\"></a>"
   ]
  },
  {
   "cell_type": "markdown",
   "id": "95d6073a",
   "metadata": {},
   "source": [
    "##  3. Simulations"
   ]
  },
  {
   "cell_type": "markdown",
   "id": "fd536841",
   "metadata": {},
   "source": [
    "## 4. Economic Application"
   ]
  },
  {
   "cell_type": "markdown",
   "id": "6a6128b6",
   "metadata": {},
   "source": [
    "## 5. Conclusion"
   ]
  },
  {
   "cell_type": "code",
   "execution_count": null,
   "id": "294bb48c",
   "metadata": {},
   "outputs": [],
   "source": []
  }
 ],
 "metadata": {
  "kernelspec": {
   "display_name": "R",
   "language": "R",
   "name": "ir"
  },
  "language_info": {
   "codemirror_mode": "r",
   "file_extension": ".r",
   "mimetype": "text/x-r-source",
   "name": "R",
   "pygments_lexer": "r",
   "version": "4.1.3"
  }
 },
 "nbformat": 4,
 "nbformat_minor": 5
}
